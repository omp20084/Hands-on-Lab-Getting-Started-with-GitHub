{
  "metadata": {
    "kernelspec": {
      "name": "python",
      "display_name": "Python (Pyodide)",
      "language": "python"
    },
    "language_info": {
      "codemirror_mode": {
        "name": "python",
        "version": 3
      },
      "file_extension": ".py",
      "mimetype": "text/x-python",
      "name": "python",
      "nbconvert_exporter": "python",
      "pygments_lexer": "ipython3",
      "version": "3.8"
    }
  },
  "nbformat_minor": 5,
  "nbformat": 4,
  "cells": [
    {
      "id": "81928d00-c386-4480-9fc5-bef2d3a2f25c",
      "cell_type": "markdown",
      "source": "# Data Science Tools and Ecosystem",
      "metadata": {}
    },
    {
      "id": "94e34d3c-a51e-4210-8afe-c855d54447da",
      "cell_type": "markdown",
      "source": "## *In this notebook, Data Science Tools and Ecosystem are summarized.*",
      "metadata": {}
    },
    {
      "id": "3e89e5aa-3c53-4ad9-8ee1-6146be4be092",
      "cell_type": "markdown",
      "source": "**Objectives:**\n\n- List popular languages for Data Science\n- Understand the basics of Python\n- Explore data science libraries\n- Learn about Jupyter Notebooks\n- Understand basic Data Science workflows\n",
      "metadata": {}
    },
    {
      "id": "5f23ad34-3ae5-4cc0-8fc4-e848743a0418",
      "cell_type": "markdown",
      "source": "### <u>Some of the popular languages that Data Scientists use are:</u>",
      "metadata": {}
    },
    {
      "id": "f7038cc7-9ae0-4280-8515-bfde94ee069f",
      "cell_type": "markdown",
      "source": "#### Ordered list",
      "metadata": {}
    },
    {
      "id": "24cc953e-a68e-4b11-b4eb-2004b94b927b",
      "cell_type": "markdown",
      "source": "1. SQL\n2. R\n3. Python",
      "metadata": {}
    },
    {
      "id": "f5e9ad0f-d4f1-487a-a6a7-9d1330bda2bd",
      "cell_type": "markdown",
      "source": "### <u>Some of the commonly used libraries used by Data Scientists include:</u>",
      "metadata": {}
    },
    {
      "id": "b897b6d1-3371-4640-93d7-8bfb0b00de6e",
      "cell_type": "markdown",
      "source": "#### Ordered list",
      "metadata": {}
    },
    {
      "id": "0e0f266b-ffe1-4652-a543-3844dfa48ee8",
      "cell_type": "markdown",
      "source": "1. NumPy\n2. Pandas\n3. Scikit-learn",
      "metadata": {}
    },
    {
      "id": "bb155e66-d2f2-4421-b03a-3e2c6574d7b7",
      "cell_type": "markdown",
      "source": "Data Science Tools\n|------------------|\n|1. Python with Pandas and NumPy|\n|2. Jupyter Notebooks|\n|3. Scikit-learn|",
      "metadata": {}
    },
    {
      "id": "b3e638fe-bd14-4f20-9fba-3dc470f6d2d4",
      "cell_type": "markdown",
      "source": "### Below are a few examples of evaluating arithmetic expressions in Python",
      "metadata": {}
    },
    {
      "id": "db458a38-1b42-44c3-bfd4-98d8483b8d39",
      "cell_type": "code",
      "source": "    a = 10 + 5  # Addition\n    b = 15 - 7  # Subtraction\n    c = 8 * 3   # Multiplication\n    d = 20 / 4  # Division\n    e = 2 ** 3  # Exponentiation\n    f = 20 // 6 # Floor Division\n    g = 20 % 6  # Modulo\n    print(a, b, c, d, e, f, g) # Output: 15 8 24 5.0 8 3 2",
      "metadata": {
        "trusted": true
      },
      "outputs": [
        {
          "name": "stdout",
          "output_type": "stream",
          "text": "15 8 24 5.0 8 3 2\n"
        }
      ],
      "execution_count": 11
    },
    {
      "id": "18e36929-65ae-4973-82fc-56a283080b99",
      "cell_type": "code",
      "source": "#This a simple arithmetic expression to mutiply then add integers\n(3*4)+5",
      "metadata": {
        "trusted": true
      },
      "outputs": [
        {
          "execution_count": 12,
          "output_type": "execute_result",
          "data": {
            "text/plain": "17"
          },
          "metadata": {}
        }
      ],
      "execution_count": 12
    },
    {
      "id": "28d7ad66-602e-4178-ae62-39ad060d3b3e",
      "cell_type": "code",
      "source": "#This will convert 200 minutes to hours by diving by 60\n200/60",
      "metadata": {
        "trusted": true
      },
      "outputs": [
        {
          "execution_count": 13,
          "output_type": "execute_result",
          "data": {
            "text/plain": "3.3333333333333335"
          },
          "metadata": {}
        }
      ],
      "execution_count": 13
    },
    {
      "id": "aa2d236d-2fe0-40a0-989e-e0a9937d1652",
      "cell_type": "markdown",
      "source": "## Author\n**Om Prakash Padhy**",
      "metadata": {}
    }
  ]
}